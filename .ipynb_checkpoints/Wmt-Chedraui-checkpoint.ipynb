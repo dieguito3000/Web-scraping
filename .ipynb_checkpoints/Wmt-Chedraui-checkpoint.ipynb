{
 "cells": [
  {
   "cell_type": "code",
   "execution_count": 1,
   "metadata": {},
   "outputs": [],
   "source": [
    "import math\n",
    "from datetime import datetime\n",
    "import numpy as np\n",
    "import pandas as pd\n",
    "import matplotlib.pyplot as plt"
   ]
  },
  {
   "cell_type": "code",
   "execution_count": 2,
   "metadata": {},
   "outputs": [],
   "source": [
    "df = pd.read_excel('Walmart_Base.xlsx')\n",
    "df2 = pd.read_excel('ChedrauiFinal.xlsx')"
   ]
  },
  {
   "cell_type": "markdown",
   "metadata": {},
   "source": [
    "Find the position of the last slash of the string"
   ]
  },
  {
   "cell_type": "code",
   "execution_count": 3,
   "metadata": {},
   "outputs": [
    {
     "data": {
      "text/plain": [
       "750644310093"
      ]
     },
     "execution_count": 3,
     "metadata": {},
     "output_type": "execute_result"
    }
   ],
   "source": [
    "int(df['Nombre-href'][0].split(\"/\")[-1])"
   ]
  },
  {
   "cell_type": "markdown",
   "metadata": {},
   "source": [
    "Creation of a column called \"UPC\""
   ]
  },
  {
   "cell_type": "code",
   "execution_count": 4,
   "metadata": {},
   "outputs": [],
   "source": [
    "df[\"UPC\"] = [int(df['Nombre-href'][x].split(\"/\")[-1]) for x in range(0, len(df['Nombre-href']))]"
   ]
  },
  {
   "cell_type": "markdown",
   "metadata": {},
   "source": [
    "Creation of a list, which contains the final price. This can be either a discount or a multi-save promotion or the full price."
   ]
  },
  {
   "cell_type": "code",
   "execution_count": 5,
   "metadata": {},
   "outputs": [],
   "source": [
    "Precio_real = []\n",
    "for i in range(0, len(df[\"Promo\"])):\n",
    "    try:\n",
    "        if math.isnan(df[\"Special_Price\"][i]) == True:\n",
    "            if df[\"Promo\"][i].find(\"x\") == -1:\n",
    "                if df[\"Promo\"][i].find(\"o\") == -1 and df[\"Promo\"][i].find(\"O\") == -1:\n",
    "                    Precio_real.append(float(df[\"Promo\"][i][df[\"Promo\"][i].find(\"X\")+2:len(df[\"Promo\"][i])])/int(df[\"Promo\"][i][0]))\n",
    "                else:\n",
    "                    if df[\"Promo\"][i].find(\"o\") == -1:\n",
    "                        Precio_real.append(float(df[\"Promo\"][i][df[\"Promo\"][i].find(\"X\")+2:df[\"Promo\"][i].find(\"O\") -2])/int(df[\"Promo\"][i][0]))\n",
    "                    else:\n",
    "                        Precio_real.append(float(df[\"Promo\"][i][df[\"Promo\"][i].find(\"X\")+2:df[\"Promo\"][i].find(\"o\") -2])/int(df[\"Promo\"][i][0]))            \n",
    "            else:\n",
    "                if df[\"Promo\"][i].find(\"o\") == -1 and df[\"Promo\"][i].find(\"O\") == -1:\n",
    "                    Precio_real.append(float(df[\"Promo\"][i][df[\"Promo\"][i].find(\"x\")+2:len(df[\"Promo\"][i])])/int(df[\"Promo\"][i][0]))\n",
    "                else:\n",
    "                    if df[\"Promo\"][i].find(\"o\") == -1:\n",
    "                        Precio_real.append(float(df[\"Promo\"][i][df[\"Promo\"][i].find(\"x\")+2:df[\"Promo\"][i].find(\"O\") -2])/int(df[\"Promo\"][i][0]))\n",
    "                    else:\n",
    "                        Precio_real.append(float(df[\"Promo\"][i][df[\"Promo\"][i].find(\"x\")+2:df[\"Promo\"][i].find(\"o\") -2])/int(df[\"Promo\"][i][0]))\n",
    "        else:\n",
    "            Precio_real.append(df[\"Special_Price\"][i])\n",
    "    \n",
    "    except:\n",
    "        Precio_real.append(df[\"Precio\"][i])\n"
   ]
  },
  {
   "cell_type": "markdown",
   "metadata": {},
   "source": [
    "Creation of a column that contains the final price."
   ]
  },
  {
   "cell_type": "code",
   "execution_count": 6,
   "metadata": {},
   "outputs": [],
   "source": [
    "df[\"Precio_final\"]=Precio_real"
   ]
  },
  {
   "cell_type": "code",
   "execution_count": 7,
   "metadata": {},
   "outputs": [],
   "source": [
    "Precio_real = []\n",
    "for i in range(0, len(df2[\"Promocion\"])):\n",
    "    try:\n",
    "        if df2[\"Promocion\"][i].find(\"x\") == -1:\n",
    "            if df2[\"Promocion\"][i].find(\"%\") == -1:\n",
    "                Precio_real.append(df2[\"Precio\"][i])\n",
    "            else:\n",
    "                Precio_real.append((1-float(int(df2[\"Promocion\"][i][0:df2[\"Promocion\"][i].find(\"%\")])/100))*float(df2[\"Precio\"][i])) \n",
    "        else:\n",
    "            if df2[\"Promocion\"][i].find(\"$\") == -1:\n",
    "                Precio_real.append(float(df2[\"Promocion\"][i][df2[\"Promocion\"][i].find(\"x\")+1:df2[\"Promocion\"][i].find(\"x\")+2])/float(df2[\"Promocio\"][i][0])*float(df2[\"Precio\"][i]))\n",
    "            else:\n",
    "                Precio_real.append(float(df2[\"Promocion\"][i][df2[\"Promocion\"][i].find(\"x\")+2:df2[\"Promocion\"][i].find(\"x\")+4])/float(df2[\"Promocion\"][i][0]))\n",
    "    except:\n",
    "        Precio_real.append(df2[\"Precio\"][i])"
   ]
  },
  {
   "cell_type": "code",
   "execution_count": 8,
   "metadata": {},
   "outputs": [],
   "source": [
    "df2[\"Precio_final\"]=Precio_real"
   ]
  },
  {
   "cell_type": "markdown",
   "metadata": {},
   "source": [
    "Creation of a column that contains the week of the date"
   ]
  },
  {
   "cell_type": "code",
   "execution_count": 9,
   "metadata": {},
   "outputs": [],
   "source": [
    "df[\"Weeks\"]= df[\"Fecha \"].apply(lambda x: x.week)"
   ]
  },
  {
   "cell_type": "code",
   "execution_count": 10,
   "metadata": {},
   "outputs": [],
   "source": [
    "df2[\"Weeks\"]= df2[\"Fecha\"].apply(lambda x: x.week)"
   ]
  },
  {
   "cell_type": "code",
   "execution_count": 11,
   "metadata": {},
   "outputs": [
    {
     "data": {
      "text/html": [
       "<div>\n",
       "<style scoped>\n",
       "    .dataframe tbody tr th:only-of-type {\n",
       "        vertical-align: middle;\n",
       "    }\n",
       "\n",
       "    .dataframe tbody tr th {\n",
       "        vertical-align: top;\n",
       "    }\n",
       "\n",
       "    .dataframe thead th {\n",
       "        text-align: right;\n",
       "    }\n",
       "</style>\n",
       "<table border=\"1\" class=\"dataframe\">\n",
       "  <thead>\n",
       "    <tr style=\"text-align: right;\">\n",
       "      <th></th>\n",
       "      <th>Nombre</th>\n",
       "      <th>Precio</th>\n",
       "      <th>Promo</th>\n",
       "      <th>UPC</th>\n",
       "      <th>Precio_final</th>\n",
       "      <th>Weeks</th>\n",
       "    </tr>\n",
       "  </thead>\n",
       "  <tbody>\n",
       "    <tr>\n",
       "      <td>0</td>\n",
       "      <td>Bebida YoPro base planta alta en proteína sabo...</td>\n",
       "      <td>37.5</td>\n",
       "      <td>NaN</td>\n",
       "      <td>750644310093</td>\n",
       "      <td>37.5</td>\n",
       "      <td>1</td>\n",
       "    </tr>\n",
       "    <tr>\n",
       "      <td>1</td>\n",
       "      <td>Leche Santa Clara sabor helado de fresa 250 ml</td>\n",
       "      <td>13.0</td>\n",
       "      <td>NaN</td>\n",
       "      <td>750105535811</td>\n",
       "      <td>13.0</td>\n",
       "      <td>1</td>\n",
       "    </tr>\n",
       "    <tr>\n",
       "      <td>2</td>\n",
       "      <td>Leche Danone Danonino sin azúcar añadida sabor...</td>\n",
       "      <td>10.0</td>\n",
       "      <td>NaN</td>\n",
       "      <td>750644310003</td>\n",
       "      <td>10.0</td>\n",
       "      <td>1</td>\n",
       "    </tr>\n",
       "    <tr>\n",
       "      <td>3</td>\n",
       "      <td>Leche Nestlé Nesquik sabor chocolate 3 pzas de...</td>\n",
       "      <td>22.0</td>\n",
       "      <td>NaN</td>\n",
       "      <td>750105863164</td>\n",
       "      <td>22.0</td>\n",
       "      <td>1</td>\n",
       "    </tr>\n",
       "    <tr>\n",
       "      <td>4</td>\n",
       "      <td>Leche saborizada Alpura vaquitas sabor chocola...</td>\n",
       "      <td>8.5</td>\n",
       "      <td>4x$24.00</td>\n",
       "      <td>750105590957</td>\n",
       "      <td>6.0</td>\n",
       "      <td>1</td>\n",
       "    </tr>\n",
       "    <tr>\n",
       "      <td>...</td>\n",
       "      <td>...</td>\n",
       "      <td>...</td>\n",
       "      <td>...</td>\n",
       "      <td>...</td>\n",
       "      <td>...</td>\n",
       "      <td>...</td>\n",
       "    </tr>\n",
       "    <tr>\n",
       "      <td>15251</td>\n",
       "      <td>Leche Santa Clara sabor helado de chocolate 25...</td>\n",
       "      <td>13.7</td>\n",
       "      <td>3X$33.00</td>\n",
       "      <td>750105535810</td>\n",
       "      <td>11.0</td>\n",
       "      <td>47</td>\n",
       "    </tr>\n",
       "    <tr>\n",
       "      <td>15252</td>\n",
       "      <td>Leche Santa Clara sabor helado de chocolate 20...</td>\n",
       "      <td>8.5</td>\n",
       "      <td>4X$28.00</td>\n",
       "      <td>750129560061</td>\n",
       "      <td>7.0</td>\n",
       "      <td>47</td>\n",
       "    </tr>\n",
       "    <tr>\n",
       "      <td>15253</td>\n",
       "      <td>Leche Jersey sabor chocolate 473 ml</td>\n",
       "      <td>11.6</td>\n",
       "      <td>NaN</td>\n",
       "      <td>750136262008</td>\n",
       "      <td>11.6</td>\n",
       "      <td>47</td>\n",
       "    </tr>\n",
       "    <tr>\n",
       "      <td>15254</td>\n",
       "      <td>Bebida Bevi sabor chocolate 240 ml</td>\n",
       "      <td>8.0</td>\n",
       "      <td>NaN</td>\n",
       "      <td>750103240186</td>\n",
       "      <td>8.0</td>\n",
       "      <td>47</td>\n",
       "    </tr>\n",
       "    <tr>\n",
       "      <td>15255</td>\n",
       "      <td>Producto lácteo Alpura Frutal piña coco 1 l</td>\n",
       "      <td>23.5</td>\n",
       "      <td>NaN</td>\n",
       "      <td>750105590491</td>\n",
       "      <td>23.5</td>\n",
       "      <td>47</td>\n",
       "    </tr>\n",
       "  </tbody>\n",
       "</table>\n",
       "<p>15256 rows × 6 columns</p>\n",
       "</div>"
      ],
      "text/plain": [
       "                                                  Nombre  Precio     Promo  \\\n",
       "0      Bebida YoPro base planta alta en proteína sabo...    37.5       NaN   \n",
       "1         Leche Santa Clara sabor helado de fresa 250 ml    13.0       NaN   \n",
       "2      Leche Danone Danonino sin azúcar añadida sabor...    10.0       NaN   \n",
       "3      Leche Nestlé Nesquik sabor chocolate 3 pzas de...    22.0       NaN   \n",
       "4      Leche saborizada Alpura vaquitas sabor chocola...     8.5  4x$24.00   \n",
       "...                                                  ...     ...       ...   \n",
       "15251  Leche Santa Clara sabor helado de chocolate 25...    13.7  3X$33.00   \n",
       "15252  Leche Santa Clara sabor helado de chocolate 20...     8.5  4X$28.00   \n",
       "15253                Leche Jersey sabor chocolate 473 ml    11.6       NaN   \n",
       "15254                 Bebida Bevi sabor chocolate 240 ml     8.0       NaN   \n",
       "15255        Producto lácteo Alpura Frutal piña coco 1 l    23.5       NaN   \n",
       "\n",
       "                UPC  Precio_final  Weeks  \n",
       "0      750644310093          37.5      1  \n",
       "1      750105535811          13.0      1  \n",
       "2      750644310003          10.0      1  \n",
       "3      750105863164          22.0      1  \n",
       "4      750105590957           6.0      1  \n",
       "...             ...           ...    ...  \n",
       "15251  750105535810          11.0     47  \n",
       "15252  750129560061           7.0     47  \n",
       "15253  750136262008          11.6     47  \n",
       "15254  750103240186           8.0     47  \n",
       "15255  750105590491          23.5     47  \n",
       "\n",
       "[15256 rows x 6 columns]"
      ]
     },
     "execution_count": 11,
     "metadata": {},
     "output_type": "execute_result"
    }
   ],
   "source": [
    "walmart = df\n",
    "walmart.drop(['Fecha ','Nombre-href','Special_Price'], inplace = True, axis = 1)\n",
    "walmart"
   ]
  },
  {
   "cell_type": "code",
   "execution_count": 12,
   "metadata": {},
   "outputs": [
    {
     "data": {
      "text/html": [
       "<div>\n",
       "<style scoped>\n",
       "    .dataframe tbody tr th:only-of-type {\n",
       "        vertical-align: middle;\n",
       "    }\n",
       "\n",
       "    .dataframe tbody tr th {\n",
       "        vertical-align: top;\n",
       "    }\n",
       "\n",
       "    .dataframe thead th {\n",
       "        text-align: right;\n",
       "    }\n",
       "</style>\n",
       "<table border=\"1\" class=\"dataframe\">\n",
       "  <thead>\n",
       "    <tr style=\"text-align: right;\">\n",
       "      <th></th>\n",
       "      <th>UPC</th>\n",
       "      <th>Nombre</th>\n",
       "      <th>Precio</th>\n",
       "      <th>Promocion</th>\n",
       "      <th>Unnamed: 5</th>\n",
       "      <th>dd</th>\n",
       "      <th>Precio_final</th>\n",
       "      <th>Weeks</th>\n",
       "    </tr>\n",
       "  </thead>\n",
       "  <tbody>\n",
       "    <tr>\n",
       "      <td>0</td>\n",
       "      <td>750102055251</td>\n",
       "      <td>Fórmula Láctea Nutrileche Choco UHT 250</td>\n",
       "      <td>6.50</td>\n",
       "      <td>NaN</td>\n",
       "      <td>NaN</td>\n",
       "      <td>1</td>\n",
       "      <td>6.50</td>\n",
       "      <td>1</td>\n",
       "    </tr>\n",
       "    <tr>\n",
       "      <td>1</td>\n",
       "      <td>750105536713</td>\n",
       "      <td>Leche Santa Clara Triple Chocolate 250 M</td>\n",
       "      <td>10.90</td>\n",
       "      <td>NaN</td>\n",
       "      <td>NaN</td>\n",
       "      <td>1</td>\n",
       "      <td>10.90</td>\n",
       "      <td>1</td>\n",
       "    </tr>\n",
       "    <tr>\n",
       "      <td>2</td>\n",
       "      <td>750115841412</td>\n",
       "      <td>Leche UHT San Marcos Choco Reducida en A</td>\n",
       "      <td>5.00</td>\n",
       "      <td>NaN</td>\n",
       "      <td>NaN</td>\n",
       "      <td>1</td>\n",
       "      <td>5.00</td>\n",
       "      <td>1</td>\n",
       "    </tr>\n",
       "    <tr>\n",
       "      <td>3</td>\n",
       "      <td>750102055322</td>\n",
       "      <td>Leche Lala Café Deslactosada 1 lt 1Pz</td>\n",
       "      <td>25.90</td>\n",
       "      <td>NaN</td>\n",
       "      <td>NaN</td>\n",
       "      <td>1</td>\n",
       "      <td>25.90</td>\n",
       "      <td>1</td>\n",
       "    </tr>\n",
       "    <tr>\n",
       "      <td>4</td>\n",
       "      <td>750105535810</td>\n",
       "      <td>Leche Santa Clara Chocolate Sab 250 Mili</td>\n",
       "      <td>12.85</td>\n",
       "      <td>NaN</td>\n",
       "      <td>NaN</td>\n",
       "      <td>1</td>\n",
       "      <td>12.85</td>\n",
       "      <td>1</td>\n",
       "    </tr>\n",
       "    <tr>\n",
       "      <td>...</td>\n",
       "      <td>...</td>\n",
       "      <td>...</td>\n",
       "      <td>...</td>\n",
       "      <td>...</td>\n",
       "      <td>...</td>\n",
       "      <td>...</td>\n",
       "      <td>...</td>\n",
       "      <td>...</td>\n",
       "    </tr>\n",
       "    <tr>\n",
       "      <td>13119</td>\n",
       "      <td>750644310142</td>\n",
       "      <td>Danonino Leche con Fresa 190ml</td>\n",
       "      <td>10.40</td>\n",
       "      <td>NaN</td>\n",
       "      <td>NaN</td>\n",
       "      <td>1</td>\n",
       "      <td>10.40</td>\n",
       "      <td>48</td>\n",
       "    </tr>\n",
       "    <tr>\n",
       "      <td>13120</td>\n",
       "      <td>750163930978</td>\n",
       "      <td>Alimento Líquido Gud Quinoa Orgánico 1</td>\n",
       "      <td>37.00</td>\n",
       "      <td>NaN</td>\n",
       "      <td>NaN</td>\n",
       "      <td>1</td>\n",
       "      <td>37.00</td>\n",
       "      <td>48</td>\n",
       "    </tr>\n",
       "    <tr>\n",
       "      <td>13121</td>\n",
       "      <td>750163930980</td>\n",
       "      <td>Alimento Líquido Güd Avena Organico 1L</td>\n",
       "      <td>44.90</td>\n",
       "      <td>NaN</td>\n",
       "      <td>NaN</td>\n",
       "      <td>1</td>\n",
       "      <td>44.90</td>\n",
       "      <td>48</td>\n",
       "    </tr>\n",
       "    <tr>\n",
       "      <td>13122</td>\n",
       "      <td>750163930979</td>\n",
       "      <td>Alimento Liquido Güd Quinoa Orgánico sin Azuca...</td>\n",
       "      <td>37.00</td>\n",
       "      <td>NaN</td>\n",
       "      <td>NaN</td>\n",
       "      <td>1</td>\n",
       "      <td>37.00</td>\n",
       "      <td>48</td>\n",
       "    </tr>\n",
       "    <tr>\n",
       "      <td>13123</td>\n",
       "      <td>750163930981</td>\n",
       "      <td>Alimento Líquido Güd Avena Orgánico sin Azucar 1L</td>\n",
       "      <td>40.30</td>\n",
       "      <td>NaN</td>\n",
       "      <td>NaN</td>\n",
       "      <td>1</td>\n",
       "      <td>40.30</td>\n",
       "      <td>48</td>\n",
       "    </tr>\n",
       "  </tbody>\n",
       "</table>\n",
       "<p>13124 rows × 8 columns</p>\n",
       "</div>"
      ],
      "text/plain": [
       "                UPC                                             Nombre  \\\n",
       "0      750102055251            Fórmula Láctea Nutrileche Choco UHT 250   \n",
       "1      750105536713           Leche Santa Clara Triple Chocolate 250 M   \n",
       "2      750115841412           Leche UHT San Marcos Choco Reducida en A   \n",
       "3      750102055322              Leche Lala Café Deslactosada 1 lt 1Pz   \n",
       "4      750105535810           Leche Santa Clara Chocolate Sab 250 Mili   \n",
       "...             ...                                                ...   \n",
       "13119  750644310142                     Danonino Leche con Fresa 190ml   \n",
       "13120  750163930978             Alimento Líquido Gud Quinoa Orgánico 1   \n",
       "13121  750163930980             Alimento Líquido Güd Avena Organico 1L   \n",
       "13122  750163930979  Alimento Liquido Güd Quinoa Orgánico sin Azuca...   \n",
       "13123  750163930981  Alimento Líquido Güd Avena Orgánico sin Azucar 1L   \n",
       "\n",
       "       Precio Promocion  Unnamed: 5  dd  Precio_final  Weeks  \n",
       "0        6.50       NaN         NaN   1          6.50      1  \n",
       "1       10.90       NaN         NaN   1         10.90      1  \n",
       "2        5.00       NaN         NaN   1          5.00      1  \n",
       "3       25.90       NaN         NaN   1         25.90      1  \n",
       "4       12.85       NaN         NaN   1         12.85      1  \n",
       "...       ...       ...         ...  ..           ...    ...  \n",
       "13119   10.40       NaN         NaN   1         10.40     48  \n",
       "13120   37.00       NaN         NaN   1         37.00     48  \n",
       "13121   44.90       NaN         NaN   1         44.90     48  \n",
       "13122   37.00       NaN         NaN   1         37.00     48  \n",
       "13123   40.30       NaN         NaN   1         40.30     48  \n",
       "\n",
       "[13124 rows x 8 columns]"
      ]
     },
     "execution_count": 12,
     "metadata": {},
     "output_type": "execute_result"
    }
   ],
   "source": [
    "chedraui = df2\n",
    "chedraui.drop(['Fecha'], inplace = True, axis = 1)\n",
    "chedraui"
   ]
  },
  {
   "cell_type": "code",
   "execution_count": 13,
   "metadata": {},
   "outputs": [],
   "source": [
    "chedraui.rename(columns={'Promocion':'Promo'}, inplace = True)"
   ]
  },
  {
   "cell_type": "code",
   "execution_count": 14,
   "metadata": {},
   "outputs": [],
   "source": [
    "walmart['Tienda'] = 'Walmart'"
   ]
  },
  {
   "cell_type": "code",
   "execution_count": 15,
   "metadata": {},
   "outputs": [],
   "source": [
    "walmart = walmart[['Tienda','UPC', 'Nombre', 'Precio', 'Promo', 'Precio_final', 'Weeks']]"
   ]
  },
  {
   "cell_type": "code",
   "execution_count": 16,
   "metadata": {},
   "outputs": [],
   "source": [
    "chedraui['Tienda']='Chedraui'"
   ]
  },
  {
   "cell_type": "code",
   "execution_count": 17,
   "metadata": {},
   "outputs": [],
   "source": [
    "chedraui = chedraui[['Tienda','UPC', 'Nombre', 'Precio', 'Promo', 'Precio_final', 'Weeks']]"
   ]
  },
  {
   "cell_type": "code",
   "execution_count": 18,
   "metadata": {},
   "outputs": [],
   "source": [
    "dbf = walmart.append(chedraui, ignore_index=True)"
   ]
  },
  {
   "cell_type": "code",
   "execution_count": 19,
   "metadata": {},
   "outputs": [
    {
     "data": {
      "text/html": [
       "<div>\n",
       "<style scoped>\n",
       "    .dataframe tbody tr th:only-of-type {\n",
       "        vertical-align: middle;\n",
       "    }\n",
       "\n",
       "    .dataframe tbody tr th {\n",
       "        vertical-align: top;\n",
       "    }\n",
       "\n",
       "    .dataframe thead th {\n",
       "        text-align: right;\n",
       "    }\n",
       "</style>\n",
       "<table border=\"1\" class=\"dataframe\">\n",
       "  <thead>\n",
       "    <tr style=\"text-align: right;\">\n",
       "      <th></th>\n",
       "      <th>Tienda</th>\n",
       "      <th>UPC</th>\n",
       "      <th>Nombre</th>\n",
       "      <th>Precio</th>\n",
       "      <th>Promo</th>\n",
       "      <th>Precio_final</th>\n",
       "      <th>Weeks</th>\n",
       "    </tr>\n",
       "  </thead>\n",
       "  <tbody>\n",
       "    <tr>\n",
       "      <td>0</td>\n",
       "      <td>Walmart</td>\n",
       "      <td>750644310093</td>\n",
       "      <td>Bebida YoPro base planta alta en proteína sabo...</td>\n",
       "      <td>37.5</td>\n",
       "      <td>NaN</td>\n",
       "      <td>37.5</td>\n",
       "      <td>1</td>\n",
       "    </tr>\n",
       "    <tr>\n",
       "      <td>1</td>\n",
       "      <td>Walmart</td>\n",
       "      <td>750105535811</td>\n",
       "      <td>Leche Santa Clara sabor helado de fresa 250 ml</td>\n",
       "      <td>13.0</td>\n",
       "      <td>NaN</td>\n",
       "      <td>13.0</td>\n",
       "      <td>1</td>\n",
       "    </tr>\n",
       "    <tr>\n",
       "      <td>2</td>\n",
       "      <td>Walmart</td>\n",
       "      <td>750644310003</td>\n",
       "      <td>Leche Danone Danonino sin azúcar añadida sabor...</td>\n",
       "      <td>10.0</td>\n",
       "      <td>NaN</td>\n",
       "      <td>10.0</td>\n",
       "      <td>1</td>\n",
       "    </tr>\n",
       "    <tr>\n",
       "      <td>3</td>\n",
       "      <td>Walmart</td>\n",
       "      <td>750105863164</td>\n",
       "      <td>Leche Nestlé Nesquik sabor chocolate 3 pzas de...</td>\n",
       "      <td>22.0</td>\n",
       "      <td>NaN</td>\n",
       "      <td>22.0</td>\n",
       "      <td>1</td>\n",
       "    </tr>\n",
       "    <tr>\n",
       "      <td>4</td>\n",
       "      <td>Walmart</td>\n",
       "      <td>750105590957</td>\n",
       "      <td>Leche saborizada Alpura vaquitas sabor chocola...</td>\n",
       "      <td>8.5</td>\n",
       "      <td>4x$24.00</td>\n",
       "      <td>6.0</td>\n",
       "      <td>1</td>\n",
       "    </tr>\n",
       "    <tr>\n",
       "      <td>...</td>\n",
       "      <td>...</td>\n",
       "      <td>...</td>\n",
       "      <td>...</td>\n",
       "      <td>...</td>\n",
       "      <td>...</td>\n",
       "      <td>...</td>\n",
       "      <td>...</td>\n",
       "    </tr>\n",
       "    <tr>\n",
       "      <td>28375</td>\n",
       "      <td>Chedraui</td>\n",
       "      <td>750644310142</td>\n",
       "      <td>Danonino Leche con Fresa 190ml</td>\n",
       "      <td>10.4</td>\n",
       "      <td>NaN</td>\n",
       "      <td>10.4</td>\n",
       "      <td>48</td>\n",
       "    </tr>\n",
       "    <tr>\n",
       "      <td>28376</td>\n",
       "      <td>Chedraui</td>\n",
       "      <td>750163930978</td>\n",
       "      <td>Alimento Líquido Gud Quinoa Orgánico 1</td>\n",
       "      <td>37.0</td>\n",
       "      <td>NaN</td>\n",
       "      <td>37.0</td>\n",
       "      <td>48</td>\n",
       "    </tr>\n",
       "    <tr>\n",
       "      <td>28377</td>\n",
       "      <td>Chedraui</td>\n",
       "      <td>750163930980</td>\n",
       "      <td>Alimento Líquido Güd Avena Organico 1L</td>\n",
       "      <td>44.9</td>\n",
       "      <td>NaN</td>\n",
       "      <td>44.9</td>\n",
       "      <td>48</td>\n",
       "    </tr>\n",
       "    <tr>\n",
       "      <td>28378</td>\n",
       "      <td>Chedraui</td>\n",
       "      <td>750163930979</td>\n",
       "      <td>Alimento Liquido Güd Quinoa Orgánico sin Azuca...</td>\n",
       "      <td>37.0</td>\n",
       "      <td>NaN</td>\n",
       "      <td>37.0</td>\n",
       "      <td>48</td>\n",
       "    </tr>\n",
       "    <tr>\n",
       "      <td>28379</td>\n",
       "      <td>Chedraui</td>\n",
       "      <td>750163930981</td>\n",
       "      <td>Alimento Líquido Güd Avena Orgánico sin Azucar 1L</td>\n",
       "      <td>40.3</td>\n",
       "      <td>NaN</td>\n",
       "      <td>40.3</td>\n",
       "      <td>48</td>\n",
       "    </tr>\n",
       "  </tbody>\n",
       "</table>\n",
       "<p>28380 rows × 7 columns</p>\n",
       "</div>"
      ],
      "text/plain": [
       "         Tienda           UPC  \\\n",
       "0       Walmart  750644310093   \n",
       "1       Walmart  750105535811   \n",
       "2       Walmart  750644310003   \n",
       "3       Walmart  750105863164   \n",
       "4       Walmart  750105590957   \n",
       "...         ...           ...   \n",
       "28375  Chedraui  750644310142   \n",
       "28376  Chedraui  750163930978   \n",
       "28377  Chedraui  750163930980   \n",
       "28378  Chedraui  750163930979   \n",
       "28379  Chedraui  750163930981   \n",
       "\n",
       "                                                  Nombre  Precio     Promo  \\\n",
       "0      Bebida YoPro base planta alta en proteína sabo...    37.5       NaN   \n",
       "1         Leche Santa Clara sabor helado de fresa 250 ml    13.0       NaN   \n",
       "2      Leche Danone Danonino sin azúcar añadida sabor...    10.0       NaN   \n",
       "3      Leche Nestlé Nesquik sabor chocolate 3 pzas de...    22.0       NaN   \n",
       "4      Leche saborizada Alpura vaquitas sabor chocola...     8.5  4x$24.00   \n",
       "...                                                  ...     ...       ...   \n",
       "28375                     Danonino Leche con Fresa 190ml    10.4       NaN   \n",
       "28376             Alimento Líquido Gud Quinoa Orgánico 1    37.0       NaN   \n",
       "28377             Alimento Líquido Güd Avena Organico 1L    44.9       NaN   \n",
       "28378  Alimento Liquido Güd Quinoa Orgánico sin Azuca...    37.0       NaN   \n",
       "28379  Alimento Líquido Güd Avena Orgánico sin Azucar 1L    40.3       NaN   \n",
       "\n",
       "       Precio_final  Weeks  \n",
       "0              37.5      1  \n",
       "1              13.0      1  \n",
       "2              10.0      1  \n",
       "3              22.0      1  \n",
       "4               6.0      1  \n",
       "...             ...    ...  \n",
       "28375          10.4     48  \n",
       "28376          37.0     48  \n",
       "28377          44.9     48  \n",
       "28378          37.0     48  \n",
       "28379          40.3     48  \n",
       "\n",
       "[28380 rows x 7 columns]"
      ]
     },
     "execution_count": 19,
     "metadata": {},
     "output_type": "execute_result"
    }
   ],
   "source": [
    "dbf"
   ]
  },
  {
   "cell_type": "code",
   "execution_count": 20,
   "metadata": {},
   "outputs": [],
   "source": [
    "unique_values = {dbf[\"UPC\"][x]:dbf[\"Nombre\"][x] for x in range(0,len(dbf[\"Nombre\"]))}"
   ]
  },
  {
   "cell_type": "code",
   "execution_count": 21,
   "metadata": {},
   "outputs": [],
   "source": [
    "dbf[\"Nombre\"] = [unique_values[dbf[\"UPC\"][x]] for x in range(0, len(dbf[\"UPC\"]))]"
   ]
  },
  {
   "cell_type": "code",
   "execution_count": 22,
   "metadata": {},
   "outputs": [],
   "source": [
    "tablef = pd.pivot_table(dbf, values = 'Precio_final', index = ['Nombre','Tienda'], columns = 'Weeks' , aggfunc=np.mean)"
   ]
  },
  {
   "cell_type": "code",
   "execution_count": 23,
   "metadata": {},
   "outputs": [
    {
     "data": {
      "text/html": [
       "<div>\n",
       "<style scoped>\n",
       "    .dataframe tbody tr th:only-of-type {\n",
       "        vertical-align: middle;\n",
       "    }\n",
       "\n",
       "    .dataframe tbody tr th {\n",
       "        vertical-align: top;\n",
       "    }\n",
       "\n",
       "    .dataframe thead th {\n",
       "        text-align: right;\n",
       "    }\n",
       "</style>\n",
       "<table border=\"1\" class=\"dataframe\">\n",
       "  <thead>\n",
       "    <tr style=\"text-align: right;\">\n",
       "      <th></th>\n",
       "      <th>Weeks</th>\n",
       "      <th>1</th>\n",
       "      <th>2</th>\n",
       "      <th>3</th>\n",
       "      <th>4</th>\n",
       "      <th>5</th>\n",
       "      <th>6</th>\n",
       "      <th>7</th>\n",
       "      <th>8</th>\n",
       "      <th>9</th>\n",
       "      <th>10</th>\n",
       "      <th>...</th>\n",
       "      <th>39</th>\n",
       "      <th>40</th>\n",
       "      <th>41</th>\n",
       "      <th>42</th>\n",
       "      <th>43</th>\n",
       "      <th>44</th>\n",
       "      <th>45</th>\n",
       "      <th>46</th>\n",
       "      <th>47</th>\n",
       "      <th>48</th>\n",
       "    </tr>\n",
       "    <tr>\n",
       "      <th>Nombre</th>\n",
       "      <th>Tienda</th>\n",
       "      <th></th>\n",
       "      <th></th>\n",
       "      <th></th>\n",
       "      <th></th>\n",
       "      <th></th>\n",
       "      <th></th>\n",
       "      <th></th>\n",
       "      <th></th>\n",
       "      <th></th>\n",
       "      <th></th>\n",
       "      <th></th>\n",
       "      <th></th>\n",
       "      <th></th>\n",
       "      <th></th>\n",
       "      <th></th>\n",
       "      <th></th>\n",
       "      <th></th>\n",
       "      <th></th>\n",
       "      <th></th>\n",
       "      <th></th>\n",
       "      <th></th>\n",
       "    </tr>\n",
       "  </thead>\n",
       "  <tbody>\n",
       "    <tr>\n",
       "      <td>Alimento Liquido Güd Quinoa Orgánico sin Azucar 1L</td>\n",
       "      <td>Chedraui</td>\n",
       "      <td>NaN</td>\n",
       "      <td>NaN</td>\n",
       "      <td>NaN</td>\n",
       "      <td>NaN</td>\n",
       "      <td>NaN</td>\n",
       "      <td>NaN</td>\n",
       "      <td>NaN</td>\n",
       "      <td>NaN</td>\n",
       "      <td>NaN</td>\n",
       "      <td>NaN</td>\n",
       "      <td>...</td>\n",
       "      <td>37.0</td>\n",
       "      <td>37.0</td>\n",
       "      <td>37.00</td>\n",
       "      <td>37.00</td>\n",
       "      <td>37.00</td>\n",
       "      <td>37.00</td>\n",
       "      <td>37.0</td>\n",
       "      <td>37.0</td>\n",
       "      <td>37.0</td>\n",
       "      <td>37.0</td>\n",
       "    </tr>\n",
       "    <tr>\n",
       "      <td>Alimento Líquido Gud Quinoa Orgánico 1</td>\n",
       "      <td>Chedraui</td>\n",
       "      <td>NaN</td>\n",
       "      <td>NaN</td>\n",
       "      <td>NaN</td>\n",
       "      <td>NaN</td>\n",
       "      <td>NaN</td>\n",
       "      <td>NaN</td>\n",
       "      <td>NaN</td>\n",
       "      <td>NaN</td>\n",
       "      <td>NaN</td>\n",
       "      <td>NaN</td>\n",
       "      <td>...</td>\n",
       "      <td>37.0</td>\n",
       "      <td>37.0</td>\n",
       "      <td>37.00</td>\n",
       "      <td>37.00</td>\n",
       "      <td>37.00</td>\n",
       "      <td>37.00</td>\n",
       "      <td>37.0</td>\n",
       "      <td>37.0</td>\n",
       "      <td>37.0</td>\n",
       "      <td>37.0</td>\n",
       "    </tr>\n",
       "    <tr>\n",
       "      <td>Alimento Líquido Güd Avena Organico 1L</td>\n",
       "      <td>Chedraui</td>\n",
       "      <td>NaN</td>\n",
       "      <td>NaN</td>\n",
       "      <td>NaN</td>\n",
       "      <td>NaN</td>\n",
       "      <td>NaN</td>\n",
       "      <td>NaN</td>\n",
       "      <td>NaN</td>\n",
       "      <td>NaN</td>\n",
       "      <td>NaN</td>\n",
       "      <td>NaN</td>\n",
       "      <td>...</td>\n",
       "      <td>44.9</td>\n",
       "      <td>44.9</td>\n",
       "      <td>44.90</td>\n",
       "      <td>44.90</td>\n",
       "      <td>45.38</td>\n",
       "      <td>45.02</td>\n",
       "      <td>44.9</td>\n",
       "      <td>44.9</td>\n",
       "      <td>44.9</td>\n",
       "      <td>44.9</td>\n",
       "    </tr>\n",
       "    <tr>\n",
       "      <td>Alimento Líquido Güd Avena Orgánico sin Azucar 1L</td>\n",
       "      <td>Chedraui</td>\n",
       "      <td>NaN</td>\n",
       "      <td>NaN</td>\n",
       "      <td>NaN</td>\n",
       "      <td>NaN</td>\n",
       "      <td>NaN</td>\n",
       "      <td>NaN</td>\n",
       "      <td>NaN</td>\n",
       "      <td>NaN</td>\n",
       "      <td>NaN</td>\n",
       "      <td>NaN</td>\n",
       "      <td>...</td>\n",
       "      <td>44.9</td>\n",
       "      <td>44.9</td>\n",
       "      <td>44.90</td>\n",
       "      <td>44.90</td>\n",
       "      <td>41.22</td>\n",
       "      <td>40.30</td>\n",
       "      <td>40.3</td>\n",
       "      <td>40.3</td>\n",
       "      <td>40.3</td>\n",
       "      <td>40.3</td>\n",
       "    </tr>\n",
       "    <tr>\n",
       "      <td>Alimento líquido de almendra Danone YoPro sabor chocolate plátano 240 g</td>\n",
       "      <td>Walmart</td>\n",
       "      <td>37.5</td>\n",
       "      <td>37.50</td>\n",
       "      <td>37.5</td>\n",
       "      <td>37.5</td>\n",
       "      <td>37.5</td>\n",
       "      <td>37.5</td>\n",
       "      <td>37.5</td>\n",
       "      <td>37.5</td>\n",
       "      <td>37.5</td>\n",
       "      <td>37.5</td>\n",
       "      <td>...</td>\n",
       "      <td>NaN</td>\n",
       "      <td>NaN</td>\n",
       "      <td>NaN</td>\n",
       "      <td>NaN</td>\n",
       "      <td>NaN</td>\n",
       "      <td>NaN</td>\n",
       "      <td>NaN</td>\n",
       "      <td>NaN</td>\n",
       "      <td>NaN</td>\n",
       "      <td>NaN</td>\n",
       "    </tr>\n",
       "    <tr>\n",
       "      <td>...</td>\n",
       "      <td>...</td>\n",
       "      <td>...</td>\n",
       "      <td>...</td>\n",
       "      <td>...</td>\n",
       "      <td>...</td>\n",
       "      <td>...</td>\n",
       "      <td>...</td>\n",
       "      <td>...</td>\n",
       "      <td>...</td>\n",
       "      <td>...</td>\n",
       "      <td>...</td>\n",
       "      <td>...</td>\n",
       "      <td>...</td>\n",
       "      <td>...</td>\n",
       "      <td>...</td>\n",
       "      <td>...</td>\n",
       "      <td>...</td>\n",
       "      <td>...</td>\n",
       "      <td>...</td>\n",
       "      <td>...</td>\n",
       "      <td>...</td>\n",
       "      <td>...</td>\n",
       "    </tr>\n",
       "    <tr>\n",
       "      <td>Producto lácteo Alpura Frutal guanábana 1 l</td>\n",
       "      <td>Walmart</td>\n",
       "      <td>NaN</td>\n",
       "      <td>NaN</td>\n",
       "      <td>NaN</td>\n",
       "      <td>NaN</td>\n",
       "      <td>NaN</td>\n",
       "      <td>NaN</td>\n",
       "      <td>21.0</td>\n",
       "      <td>21.0</td>\n",
       "      <td>21.0</td>\n",
       "      <td>21.0</td>\n",
       "      <td>...</td>\n",
       "      <td>23.5</td>\n",
       "      <td>22.1</td>\n",
       "      <td>20.00</td>\n",
       "      <td>21.40</td>\n",
       "      <td>23.50</td>\n",
       "      <td>23.50</td>\n",
       "      <td>23.5</td>\n",
       "      <td>23.5</td>\n",
       "      <td>23.5</td>\n",
       "      <td>23.5</td>\n",
       "    </tr>\n",
       "    <tr>\n",
       "      <td>Producto lácteo Alpura Frutal mango 1 l</td>\n",
       "      <td>Walmart</td>\n",
       "      <td>NaN</td>\n",
       "      <td>NaN</td>\n",
       "      <td>NaN</td>\n",
       "      <td>NaN</td>\n",
       "      <td>NaN</td>\n",
       "      <td>NaN</td>\n",
       "      <td>21.0</td>\n",
       "      <td>21.0</td>\n",
       "      <td>21.0</td>\n",
       "      <td>21.0</td>\n",
       "      <td>...</td>\n",
       "      <td>23.5</td>\n",
       "      <td>22.1</td>\n",
       "      <td>20.00</td>\n",
       "      <td>21.40</td>\n",
       "      <td>23.50</td>\n",
       "      <td>23.50</td>\n",
       "      <td>23.5</td>\n",
       "      <td>23.5</td>\n",
       "      <td>23.5</td>\n",
       "      <td>23.5</td>\n",
       "    </tr>\n",
       "    <tr>\n",
       "      <td>Producto lácteo Alpura Frutal piña coco 1 l</td>\n",
       "      <td>Walmart</td>\n",
       "      <td>21.0</td>\n",
       "      <td>21.00</td>\n",
       "      <td>21.0</td>\n",
       "      <td>21.0</td>\n",
       "      <td>21.0</td>\n",
       "      <td>21.0</td>\n",
       "      <td>21.0</td>\n",
       "      <td>21.0</td>\n",
       "      <td>21.0</td>\n",
       "      <td>21.0</td>\n",
       "      <td>...</td>\n",
       "      <td>23.5</td>\n",
       "      <td>22.1</td>\n",
       "      <td>20.00</td>\n",
       "      <td>21.40</td>\n",
       "      <td>23.50</td>\n",
       "      <td>23.50</td>\n",
       "      <td>23.5</td>\n",
       "      <td>23.5</td>\n",
       "      <td>23.5</td>\n",
       "      <td>23.5</td>\n",
       "    </tr>\n",
       "    <tr>\n",
       "      <td>Producto lácteo Alpura Frutal piña coco 250 ml</td>\n",
       "      <td>Walmart</td>\n",
       "      <td>NaN</td>\n",
       "      <td>NaN</td>\n",
       "      <td>NaN</td>\n",
       "      <td>NaN</td>\n",
       "      <td>NaN</td>\n",
       "      <td>NaN</td>\n",
       "      <td>7.7</td>\n",
       "      <td>7.7</td>\n",
       "      <td>7.7</td>\n",
       "      <td>7.7</td>\n",
       "      <td>...</td>\n",
       "      <td>6.7</td>\n",
       "      <td>6.6</td>\n",
       "      <td>6.75</td>\n",
       "      <td>6.75</td>\n",
       "      <td>7.50</td>\n",
       "      <td>7.50</td>\n",
       "      <td>6.5</td>\n",
       "      <td>6.5</td>\n",
       "      <td>7.5</td>\n",
       "      <td>6.5</td>\n",
       "    </tr>\n",
       "    <tr>\n",
       "      <td>Producto lácteo Nutri café 1 l</td>\n",
       "      <td>Walmart</td>\n",
       "      <td>20.0</td>\n",
       "      <td>18.75</td>\n",
       "      <td>15.0</td>\n",
       "      <td>15.0</td>\n",
       "      <td>15.0</td>\n",
       "      <td>15.0</td>\n",
       "      <td>15.0</td>\n",
       "      <td>15.0</td>\n",
       "      <td>15.0</td>\n",
       "      <td>15.0</td>\n",
       "      <td>...</td>\n",
       "      <td>NaN</td>\n",
       "      <td>NaN</td>\n",
       "      <td>NaN</td>\n",
       "      <td>NaN</td>\n",
       "      <td>NaN</td>\n",
       "      <td>NaN</td>\n",
       "      <td>NaN</td>\n",
       "      <td>NaN</td>\n",
       "      <td>NaN</td>\n",
       "      <td>NaN</td>\n",
       "    </tr>\n",
       "  </tbody>\n",
       "</table>\n",
       "<p>157 rows × 48 columns</p>\n",
       "</div>"
      ],
      "text/plain": [
       "Weeks                                                          1      2   \\\n",
       "Nombre                                             Tienda                  \n",
       "Alimento Liquido Güd Quinoa Orgánico sin Azucar 1L Chedraui   NaN    NaN   \n",
       "Alimento Líquido Gud Quinoa Orgánico 1             Chedraui   NaN    NaN   \n",
       "Alimento Líquido Güd Avena Organico 1L             Chedraui   NaN    NaN   \n",
       "Alimento Líquido Güd Avena Orgánico sin Azucar 1L  Chedraui   NaN    NaN   \n",
       "Alimento líquido de almendra Danone YoPro sabor... Walmart   37.5  37.50   \n",
       "...                                                           ...    ...   \n",
       "Producto lácteo Alpura Frutal guanábana 1 l        Walmart    NaN    NaN   \n",
       "Producto lácteo Alpura Frutal mango 1 l            Walmart    NaN    NaN   \n",
       "Producto lácteo Alpura Frutal piña coco 1 l        Walmart   21.0  21.00   \n",
       "Producto lácteo Alpura Frutal piña coco 250 ml     Walmart    NaN    NaN   \n",
       "Producto lácteo Nutri café 1 l                     Walmart   20.0  18.75   \n",
       "\n",
       "Weeks                                                          3     4     5   \\\n",
       "Nombre                                             Tienda                       \n",
       "Alimento Liquido Güd Quinoa Orgánico sin Azucar 1L Chedraui   NaN   NaN   NaN   \n",
       "Alimento Líquido Gud Quinoa Orgánico 1             Chedraui   NaN   NaN   NaN   \n",
       "Alimento Líquido Güd Avena Organico 1L             Chedraui   NaN   NaN   NaN   \n",
       "Alimento Líquido Güd Avena Orgánico sin Azucar 1L  Chedraui   NaN   NaN   NaN   \n",
       "Alimento líquido de almendra Danone YoPro sabor... Walmart   37.5  37.5  37.5   \n",
       "...                                                           ...   ...   ...   \n",
       "Producto lácteo Alpura Frutal guanábana 1 l        Walmart    NaN   NaN   NaN   \n",
       "Producto lácteo Alpura Frutal mango 1 l            Walmart    NaN   NaN   NaN   \n",
       "Producto lácteo Alpura Frutal piña coco 1 l        Walmart   21.0  21.0  21.0   \n",
       "Producto lácteo Alpura Frutal piña coco 250 ml     Walmart    NaN   NaN   NaN   \n",
       "Producto lácteo Nutri café 1 l                     Walmart   15.0  15.0  15.0   \n",
       "\n",
       "Weeks                                                          6     7     8   \\\n",
       "Nombre                                             Tienda                       \n",
       "Alimento Liquido Güd Quinoa Orgánico sin Azucar 1L Chedraui   NaN   NaN   NaN   \n",
       "Alimento Líquido Gud Quinoa Orgánico 1             Chedraui   NaN   NaN   NaN   \n",
       "Alimento Líquido Güd Avena Organico 1L             Chedraui   NaN   NaN   NaN   \n",
       "Alimento Líquido Güd Avena Orgánico sin Azucar 1L  Chedraui   NaN   NaN   NaN   \n",
       "Alimento líquido de almendra Danone YoPro sabor... Walmart   37.5  37.5  37.5   \n",
       "...                                                           ...   ...   ...   \n",
       "Producto lácteo Alpura Frutal guanábana 1 l        Walmart    NaN  21.0  21.0   \n",
       "Producto lácteo Alpura Frutal mango 1 l            Walmart    NaN  21.0  21.0   \n",
       "Producto lácteo Alpura Frutal piña coco 1 l        Walmart   21.0  21.0  21.0   \n",
       "Producto lácteo Alpura Frutal piña coco 250 ml     Walmart    NaN   7.7   7.7   \n",
       "Producto lácteo Nutri café 1 l                     Walmart   15.0  15.0  15.0   \n",
       "\n",
       "Weeks                                                          9     10  ...  \\\n",
       "Nombre                                             Tienda                ...   \n",
       "Alimento Liquido Güd Quinoa Orgánico sin Azucar 1L Chedraui   NaN   NaN  ...   \n",
       "Alimento Líquido Gud Quinoa Orgánico 1             Chedraui   NaN   NaN  ...   \n",
       "Alimento Líquido Güd Avena Organico 1L             Chedraui   NaN   NaN  ...   \n",
       "Alimento Líquido Güd Avena Orgánico sin Azucar 1L  Chedraui   NaN   NaN  ...   \n",
       "Alimento líquido de almendra Danone YoPro sabor... Walmart   37.5  37.5  ...   \n",
       "...                                                           ...   ...  ...   \n",
       "Producto lácteo Alpura Frutal guanábana 1 l        Walmart   21.0  21.0  ...   \n",
       "Producto lácteo Alpura Frutal mango 1 l            Walmart   21.0  21.0  ...   \n",
       "Producto lácteo Alpura Frutal piña coco 1 l        Walmart   21.0  21.0  ...   \n",
       "Producto lácteo Alpura Frutal piña coco 250 ml     Walmart    7.7   7.7  ...   \n",
       "Producto lácteo Nutri café 1 l                     Walmart   15.0  15.0  ...   \n",
       "\n",
       "Weeks                                                          39    40  \\\n",
       "Nombre                                             Tienda                 \n",
       "Alimento Liquido Güd Quinoa Orgánico sin Azucar 1L Chedraui  37.0  37.0   \n",
       "Alimento Líquido Gud Quinoa Orgánico 1             Chedraui  37.0  37.0   \n",
       "Alimento Líquido Güd Avena Organico 1L             Chedraui  44.9  44.9   \n",
       "Alimento Líquido Güd Avena Orgánico sin Azucar 1L  Chedraui  44.9  44.9   \n",
       "Alimento líquido de almendra Danone YoPro sabor... Walmart    NaN   NaN   \n",
       "...                                                           ...   ...   \n",
       "Producto lácteo Alpura Frutal guanábana 1 l        Walmart   23.5  22.1   \n",
       "Producto lácteo Alpura Frutal mango 1 l            Walmart   23.5  22.1   \n",
       "Producto lácteo Alpura Frutal piña coco 1 l        Walmart   23.5  22.1   \n",
       "Producto lácteo Alpura Frutal piña coco 250 ml     Walmart    6.7   6.6   \n",
       "Producto lácteo Nutri café 1 l                     Walmart    NaN   NaN   \n",
       "\n",
       "Weeks                                                           41     42  \\\n",
       "Nombre                                             Tienda                   \n",
       "Alimento Liquido Güd Quinoa Orgánico sin Azucar 1L Chedraui  37.00  37.00   \n",
       "Alimento Líquido Gud Quinoa Orgánico 1             Chedraui  37.00  37.00   \n",
       "Alimento Líquido Güd Avena Organico 1L             Chedraui  44.90  44.90   \n",
       "Alimento Líquido Güd Avena Orgánico sin Azucar 1L  Chedraui  44.90  44.90   \n",
       "Alimento líquido de almendra Danone YoPro sabor... Walmart     NaN    NaN   \n",
       "...                                                            ...    ...   \n",
       "Producto lácteo Alpura Frutal guanábana 1 l        Walmart   20.00  21.40   \n",
       "Producto lácteo Alpura Frutal mango 1 l            Walmart   20.00  21.40   \n",
       "Producto lácteo Alpura Frutal piña coco 1 l        Walmart   20.00  21.40   \n",
       "Producto lácteo Alpura Frutal piña coco 250 ml     Walmart    6.75   6.75   \n",
       "Producto lácteo Nutri café 1 l                     Walmart     NaN    NaN   \n",
       "\n",
       "Weeks                                                           43     44  \\\n",
       "Nombre                                             Tienda                   \n",
       "Alimento Liquido Güd Quinoa Orgánico sin Azucar 1L Chedraui  37.00  37.00   \n",
       "Alimento Líquido Gud Quinoa Orgánico 1             Chedraui  37.00  37.00   \n",
       "Alimento Líquido Güd Avena Organico 1L             Chedraui  45.38  45.02   \n",
       "Alimento Líquido Güd Avena Orgánico sin Azucar 1L  Chedraui  41.22  40.30   \n",
       "Alimento líquido de almendra Danone YoPro sabor... Walmart     NaN    NaN   \n",
       "...                                                            ...    ...   \n",
       "Producto lácteo Alpura Frutal guanábana 1 l        Walmart   23.50  23.50   \n",
       "Producto lácteo Alpura Frutal mango 1 l            Walmart   23.50  23.50   \n",
       "Producto lácteo Alpura Frutal piña coco 1 l        Walmart   23.50  23.50   \n",
       "Producto lácteo Alpura Frutal piña coco 250 ml     Walmart    7.50   7.50   \n",
       "Producto lácteo Nutri café 1 l                     Walmart     NaN    NaN   \n",
       "\n",
       "Weeks                                                          45    46    47  \\\n",
       "Nombre                                             Tienda                       \n",
       "Alimento Liquido Güd Quinoa Orgánico sin Azucar 1L Chedraui  37.0  37.0  37.0   \n",
       "Alimento Líquido Gud Quinoa Orgánico 1             Chedraui  37.0  37.0  37.0   \n",
       "Alimento Líquido Güd Avena Organico 1L             Chedraui  44.9  44.9  44.9   \n",
       "Alimento Líquido Güd Avena Orgánico sin Azucar 1L  Chedraui  40.3  40.3  40.3   \n",
       "Alimento líquido de almendra Danone YoPro sabor... Walmart    NaN   NaN   NaN   \n",
       "...                                                           ...   ...   ...   \n",
       "Producto lácteo Alpura Frutal guanábana 1 l        Walmart   23.5  23.5  23.5   \n",
       "Producto lácteo Alpura Frutal mango 1 l            Walmart   23.5  23.5  23.5   \n",
       "Producto lácteo Alpura Frutal piña coco 1 l        Walmart   23.5  23.5  23.5   \n",
       "Producto lácteo Alpura Frutal piña coco 250 ml     Walmart    6.5   6.5   7.5   \n",
       "Producto lácteo Nutri café 1 l                     Walmart    NaN   NaN   NaN   \n",
       "\n",
       "Weeks                                                          48  \n",
       "Nombre                                             Tienda          \n",
       "Alimento Liquido Güd Quinoa Orgánico sin Azucar 1L Chedraui  37.0  \n",
       "Alimento Líquido Gud Quinoa Orgánico 1             Chedraui  37.0  \n",
       "Alimento Líquido Güd Avena Organico 1L             Chedraui  44.9  \n",
       "Alimento Líquido Güd Avena Orgánico sin Azucar 1L  Chedraui  40.3  \n",
       "Alimento líquido de almendra Danone YoPro sabor... Walmart    NaN  \n",
       "...                                                           ...  \n",
       "Producto lácteo Alpura Frutal guanábana 1 l        Walmart   23.5  \n",
       "Producto lácteo Alpura Frutal mango 1 l            Walmart   23.5  \n",
       "Producto lácteo Alpura Frutal piña coco 1 l        Walmart   23.5  \n",
       "Producto lácteo Alpura Frutal piña coco 250 ml     Walmart    6.5  \n",
       "Producto lácteo Nutri café 1 l                     Walmart    NaN  \n",
       "\n",
       "[157 rows x 48 columns]"
      ]
     },
     "execution_count": 23,
     "metadata": {},
     "output_type": "execute_result"
    }
   ],
   "source": [
    "tablef"
   ]
  },
  {
   "cell_type": "code",
   "execution_count": 24,
   "metadata": {},
   "outputs": [],
   "source": [
    "milks = [tablef.index[x][0] for x in range(0, len(tablef.index))]"
   ]
  },
  {
   "cell_type": "markdown",
   "metadata": {},
   "source": [
    "items that are found in Walmart as well as Chedraui"
   ]
  },
  {
   "cell_type": "code",
   "execution_count": 25,
   "metadata": {},
   "outputs": [
    {
     "data": {
      "text/plain": [
       "['Leche Alpura Choco Deslact 250 ml 1Pz',\n",
       " 'Leche Hershey´s Chocolate 200ml',\n",
       " 'Leche Hershey´s Chocolate 3 pack 200ml',\n",
       " 'Leche Hershey´s Deslactosado Chocolate 200ml',\n",
       " 'Leche Hershey´s Fresa 200ml',\n",
       " 'Leche Hershey´s Vainilla con Chocolate 200ml',\n",
       " 'Leche Lala Café Deslac UHT 330 Mililitro',\n",
       " 'Leche Lala Yomi Chocolate Red Azuc 190 M',\n",
       " 'Leche Lala Yomi Fresa Red Azuc 190 Mili',\n",
       " 'Leche Lala Yomi Vainilla Red Azuc 190 M',\n",
       " 'Leche Sab Alpura 1 lt, Chocolate',\n",
       " 'Leche Sab Alpura 1 lt, Fresa',\n",
       " 'Leche Sab Alpura 1 lt, Vainilla',\n",
       " 'Leche Sabor Chocolate Vaquitas Alpura 250ml',\n",
       " 'Leche Sabor Fresa Vaquitas Alpura  250ml',\n",
       " 'Leche Sabor Vainilla Vaquitas Alpura 250ml',\n",
       " 'Leche Sello Rojo Tikito Chocolate Entera',\n",
       " 'Leche Sello Rojo Tikito Fresa 236 Milil',\n",
       " 'Leche Sello Rojo Tikito Sab Vainilla 236',\n",
       " 'Leche Sta Clara Algodón Fantasía 200 Ml',\n",
       " 'Leche UHT San Marcos Chocolate 300ml',\n",
       " 'Leche Uht Santa Clara Helado de Cajeta 200ml',\n",
       " 'Leche Uht Santa Clara Helado de Capuccino 200ml',\n",
       " 'Leche Uht Santa Clara Helado de Chocolate 200ml',\n",
       " 'Leche Uht Santa Clara Helado de Chocolate 250ml',\n",
       " 'Leche Uht Santa Clara Helado de Chocolate 750ml',\n",
       " 'Leche Uht Santa Clara Helado de Fresa 200ml',\n",
       " 'Leche Uht Santa Clara Helado de Fresa 250ml',\n",
       " 'Leche Uht Santa Clara Helado de Fresa 750ml',\n",
       " 'Leche Uht Santa Clara Helado de Menta con Chocolate 250ml',\n",
       " 'Leche Uht Santa Clara Helado de Vainilla 200ml',\n",
       " 'Leche Uht Santa Clara Triple Chocolate 250ml',\n",
       " 'Leche Yomi Lala Chocolate UHT 1 lt 1Pz',\n",
       " 'Leche Yomi Lala Fresa UHT 1 Litros 1 Pz',\n",
       " 'Leche Yomi Lala Vainilla UHT 1 lt 1Pz',\n",
       " 'Leche sab Sello Rojo 250 ml Chocolate',\n",
       " 'Licuado YoPro Proteína Mocha Reducida En',\n",
       " 'Licuado YoPro Proteína Vainilla Platano',\n",
       " 'Licuado YoPro Proteína Veg Café Choc 24',\n",
       " 'Producto Deslactosado All-Bran Sabor Chocolate 236ml']"
      ]
     },
     "execution_count": 25,
     "metadata": {},
     "output_type": "execute_result"
    }
   ],
   "source": [
    "from collections import Counter\n",
    "\n",
    "d = Counter(milks)\n",
    "res = [k for k, v in d.items() if v > 1]\n",
    "milks = res\n",
    "milks"
   ]
  },
  {
   "cell_type": "code",
   "execution_count": 91,
   "metadata": {},
   "outputs": [
    {
     "data": {
      "image/png": "[encoded data removed]",
      "text/plain": [
       "<Figure size 432x288 with 1 Axes>"
      ]
     },
     "metadata": {
      "needs_background": "light"
     },
     "output_type": "display_data"
    }
   ],
   "source": [
    "plt.plot(tablef.columns.values, tablef.loc['Leche Hershey´s Chocolate 200ml', 'Walmart'].values, label= tablef.loc['Leche Hershey´s Chocolate 200ml', 'Walmart'].name[1])\n",
    "plt.plot(tablef.columns.values, tablef.loc['Leche Hershey´s Chocolate 200ml', 'Chedraui'].values, label= tablef.loc['Leche Hershey´s Chocolate 200ml', 'Chedraui'].name[1])\n",
    "plt.xlabel(\"Semanas\")\n",
    "plt.ylabel(\"Precio\")\n",
    "plt.legend(loc='upper center',  bbox_to_anchor=(1.2, 1))\n",
    "plt.title(\"Precio promedio por semana\")\n",
    "plt.show()"
   ]
  },
  {
   "cell_type": "code",
   "execution_count": 27,
   "metadata": {},
   "outputs": [
    {
     "data": {
      "image/png": "[encoded data removed]",
      "text/plain": [
       "<Figure size 432x288 with 1 Axes>"
      ]
     },
     "metadata": {
      "needs_background": "light"
     },
     "output_type": "display_data"
    }
   ],
   "source": [
    "box=plt.boxplot([tablef.loc['Leche Hershey´s Chocolate 200ml', 'Walmart'].dropna().values,\n",
    "                tablef.loc['Leche Hershey´s Chocolate 200ml', 'Chedraui'].dropna().values],\n",
    "                patch_artist=True,vert=0,\n",
    "            labels=['Walmart', 'Chedraui'])\n",
    "\n",
    "colors = ['lightblue','lightgreen']\n",
    "for patch, color in zip(box['boxes'], colors):\n",
    "    patch.set_facecolor(color)\n",
    "\n",
    "plt.title(\"Distribución del precio por ítem\")\n",
    "plt.xlabel(\"Precios\")\n",
    "    \n",
    "plt.show()"
   ]
  },
  {
   "cell_type": "code",
   "execution_count": 122,
   "metadata": {},
   "outputs": [
    {
     "data": {
      "image/png": "[encoded data removed]",
      "text/plain": [
       "<Figure size 432x288 with 1 Axes>"
      ]
     },
     "metadata": {
      "needs_background": "light"
     },
     "output_type": "display_data"
    }
   ],
   "source": [
    "plt.plot(tablef.columns.values, tablef.loc['Leche Hershey´s Chocolate 200ml', 'Walmart'].values, label= tablef.loc['Leche Hershey´s Chocolate 200ml', 'Walmart'].name[0])\n",
    "plt.plot(tablef.columns.values, tablef.loc['Leche Uht Santa Clara Helado de Chocolate 200ml', 'Walmart'].values, label= tablef.loc['Leche Uht Santa Clara Helado de Chocolate 200ml', 'Walmart'].name[0])\n",
    "plt.plot(tablef.columns.values, tablef.loc['Leche Lala Yomi Chocolate Red Azuc 190 M', 'Walmart'].values, label= tablef.loc['Leche Lala Yomi Chocolate Red Azuc 190 M', 'Walmart'].name[0])\n",
    "plt.xlabel(\"Semanas\")\n",
    "plt.ylabel(\"Precio\")\n",
    "plt.legend(loc='upper center',  bbox_to_anchor=(1.5, 1))\n",
    "plt.title(\"Precio promedio por semana\")\n",
    "plt.show()"
   ]
  },
  {
   "cell_type": "code",
   "execution_count": 29,
   "metadata": {},
   "outputs": [
    {
     "data": {
      "image/png": "[encoded data removed]",
      "text/plain": [
       "<Figure size 432x288 with 1 Axes>"
      ]
     },
     "metadata": {
      "needs_background": "light"
     },
     "output_type": "display_data"
    }
   ],
   "source": [
    "box=plt.boxplot([tablef.loc['Leche Hershey´s Chocolate 200ml', 'Walmart'].dropna().values,\n",
    "                tablef.loc['Leche Uht Santa Clara Helado de Chocolate 200ml', 'Walmart'].dropna().values,\n",
    "                tablef.loc['Leche Lala Yomi Chocolate Red Azuc 190 M', 'Walmart'].dropna().values],\n",
    "                patch_artist=True,vert=0,\n",
    "            labels=['Leche Hershey´s Chocolate 200ml', 'Leche Uht Santa Clara Helado de Chocolate 200ml', \n",
    "                    'Leche Lala Yomi Chocolate Red Azuc 190 M'])\n",
    "\n",
    "colors = ['lightblue','orange','lightgreen']\n",
    "for patch, color in zip(box['boxes'], colors):\n",
    "    patch.set_facecolor(color)\n",
    "\n",
    "plt.title(\"Distribución del precio por ítem\")\n",
    "plt.xlabel(\"Precios\")\n",
    "    \n",
    "plt.show()"
   ]
  },
  {
   "cell_type": "code",
   "execution_count": 30,
   "metadata": {},
   "outputs": [],
   "source": [
    "tablep = pd.pivot_table(dbf, index = ['Weeks','Nombre','Tienda', 'Promo'])"
   ]
  },
  {
   "cell_type": "code",
   "execution_count": 31,
   "metadata": {},
   "outputs": [
    {
     "data": {
      "text/html": [
       "<div>\n",
       "<style scoped>\n",
       "    .dataframe tbody tr th:only-of-type {\n",
       "        vertical-align: middle;\n",
       "    }\n",
       "\n",
       "    .dataframe tbody tr th {\n",
       "        vertical-align: top;\n",
       "    }\n",
       "\n",
       "    .dataframe thead th {\n",
       "        text-align: right;\n",
       "    }\n",
       "</style>\n",
       "<table border=\"1\" class=\"dataframe\">\n",
       "  <thead>\n",
       "    <tr style=\"text-align: right;\">\n",
       "      <th></th>\n",
       "      <th></th>\n",
       "      <th></th>\n",
       "      <th></th>\n",
       "      <th>Precio</th>\n",
       "      <th>Precio_final</th>\n",
       "      <th>UPC</th>\n",
       "    </tr>\n",
       "    <tr>\n",
       "      <th>Weeks</th>\n",
       "      <th>Nombre</th>\n",
       "      <th>Tienda</th>\n",
       "      <th>Promo</th>\n",
       "      <th></th>\n",
       "      <th></th>\n",
       "      <th></th>\n",
       "    </tr>\n",
       "  </thead>\n",
       "  <tbody>\n",
       "    <tr>\n",
       "      <td rowspan=\"5\" valign=\"top\">1</td>\n",
       "      <td>Leche Danone Danonino sin azúcar añadida sabor chocolate 200 ml</td>\n",
       "      <td>Walmart</td>\n",
       "      <td>4x$25.00</td>\n",
       "      <td>10.0</td>\n",
       "      <td>6.25</td>\n",
       "      <td>750644310003</td>\n",
       "    </tr>\n",
       "    <tr>\n",
       "      <td>Leche Danone Danonino sin azúcar añadida sabor fresa 200 ml</td>\n",
       "      <td>Walmart</td>\n",
       "      <td>4x$25.00</td>\n",
       "      <td>10.0</td>\n",
       "      <td>6.25</td>\n",
       "      <td>750644310002</td>\n",
       "    </tr>\n",
       "    <tr>\n",
       "      <td>Leche Hershey´s Chocolate 200ml</td>\n",
       "      <td>Walmart</td>\n",
       "      <td>4x$26.00</td>\n",
       "      <td>8.5</td>\n",
       "      <td>6.50</td>\n",
       "      <td>750102457894</td>\n",
       "    </tr>\n",
       "    <tr>\n",
       "      <td>Leche Hershey´s Chocolate 3 pack 200ml</td>\n",
       "      <td>Walmart</td>\n",
       "      <td>2x$35.00</td>\n",
       "      <td>24.0</td>\n",
       "      <td>17.50</td>\n",
       "      <td>750102458012</td>\n",
       "    </tr>\n",
       "    <tr>\n",
       "      <td>Leche Hershey´s Deslactosado Chocolate 200ml</td>\n",
       "      <td>Walmart</td>\n",
       "      <td>4x$26.00</td>\n",
       "      <td>8.9</td>\n",
       "      <td>6.50</td>\n",
       "      <td>750102457910</td>\n",
       "    </tr>\n",
       "    <tr>\n",
       "      <td>...</td>\n",
       "      <td>...</td>\n",
       "      <td>...</td>\n",
       "      <td>...</td>\n",
       "      <td>...</td>\n",
       "      <td>...</td>\n",
       "      <td>...</td>\n",
       "    </tr>\n",
       "    <tr>\n",
       "      <td rowspan=\"5\" valign=\"top\">48</td>\n",
       "      <td>Producto lácteo Alpura Frutal frutos del bosque 250 ml</td>\n",
       "      <td>Walmart</td>\n",
       "      <td>2X$13.00 Online</td>\n",
       "      <td>7.7</td>\n",
       "      <td>6.50</td>\n",
       "      <td>750105590925</td>\n",
       "    </tr>\n",
       "    <tr>\n",
       "      <td>Producto lácteo Alpura Frutal guanábana 1 l</td>\n",
       "      <td>Walmart</td>\n",
       "      <td>Online</td>\n",
       "      <td>23.5</td>\n",
       "      <td>23.50</td>\n",
       "      <td>750105590507</td>\n",
       "    </tr>\n",
       "    <tr>\n",
       "      <td>Producto lácteo Alpura Frutal mango 1 l</td>\n",
       "      <td>Walmart</td>\n",
       "      <td>Online</td>\n",
       "      <td>23.5</td>\n",
       "      <td>23.50</td>\n",
       "      <td>750105590380</td>\n",
       "    </tr>\n",
       "    <tr>\n",
       "      <td>Producto lácteo Alpura Frutal piña coco 1 l</td>\n",
       "      <td>Walmart</td>\n",
       "      <td>Online</td>\n",
       "      <td>23.5</td>\n",
       "      <td>23.50</td>\n",
       "      <td>750105590491</td>\n",
       "    </tr>\n",
       "    <tr>\n",
       "      <td>Producto lácteo Alpura Frutal piña coco 250 ml</td>\n",
       "      <td>Walmart</td>\n",
       "      <td>2X$13.00 Online</td>\n",
       "      <td>7.5</td>\n",
       "      <td>6.50</td>\n",
       "      <td>750105590585</td>\n",
       "    </tr>\n",
       "  </tbody>\n",
       "</table>\n",
       "<p>1539 rows × 3 columns</p>\n",
       "</div>"
      ],
      "text/plain": [
       "                                                                                  Precio  \\\n",
       "Weeks Nombre                                             Tienda  Promo                     \n",
       "1     Leche Danone Danonino sin azúcar añadida sabor ... Walmart 4x$25.00           10.0   \n",
       "      Leche Danone Danonino sin azúcar añadida sabor ... Walmart 4x$25.00           10.0   \n",
       "      Leche Hershey´s Chocolate 200ml                    Walmart 4x$26.00            8.5   \n",
       "      Leche Hershey´s Chocolate 3 pack 200ml             Walmart 2x$35.00           24.0   \n",
       "      Leche Hershey´s Deslactosado Chocolate 200ml       Walmart 4x$26.00            8.9   \n",
       "...                                                                                  ...   \n",
       "48    Producto lácteo Alpura Frutal frutos del bosque... Walmart 2X$13.00 Online     7.7   \n",
       "      Producto lácteo Alpura Frutal guanábana 1 l        Walmart Online             23.5   \n",
       "      Producto lácteo Alpura Frutal mango 1 l            Walmart Online             23.5   \n",
       "      Producto lácteo Alpura Frutal piña coco 1 l        Walmart Online             23.5   \n",
       "      Producto lácteo Alpura Frutal piña coco 250 ml     Walmart 2X$13.00 Online     7.5   \n",
       "\n",
       "                                                                                  Precio_final  \\\n",
       "Weeks Nombre                                             Tienda  Promo                           \n",
       "1     Leche Danone Danonino sin azúcar añadida sabor ... Walmart 4x$25.00                 6.25   \n",
       "      Leche Danone Danonino sin azúcar añadida sabor ... Walmart 4x$25.00                 6.25   \n",
       "      Leche Hershey´s Chocolate 200ml                    Walmart 4x$26.00                 6.50   \n",
       "      Leche Hershey´s Chocolate 3 pack 200ml             Walmart 2x$35.00                17.50   \n",
       "      Leche Hershey´s Deslactosado Chocolate 200ml       Walmart 4x$26.00                 6.50   \n",
       "...                                                                                        ...   \n",
       "48    Producto lácteo Alpura Frutal frutos del bosque... Walmart 2X$13.00 Online          6.50   \n",
       "      Producto lácteo Alpura Frutal guanábana 1 l        Walmart Online                  23.50   \n",
       "      Producto lácteo Alpura Frutal mango 1 l            Walmart Online                  23.50   \n",
       "      Producto lácteo Alpura Frutal piña coco 1 l        Walmart Online                  23.50   \n",
       "      Producto lácteo Alpura Frutal piña coco 250 ml     Walmart 2X$13.00 Online          6.50   \n",
       "\n",
       "                                                                                           UPC  \n",
       "Weeks Nombre                                             Tienda  Promo                          \n",
       "1     Leche Danone Danonino sin azúcar añadida sabor ... Walmart 4x$25.00         750644310003  \n",
       "      Leche Danone Danonino sin azúcar añadida sabor ... Walmart 4x$25.00         750644310002  \n",
       "      Leche Hershey´s Chocolate 200ml                    Walmart 4x$26.00         750102457894  \n",
       "      Leche Hershey´s Chocolate 3 pack 200ml             Walmart 2x$35.00         750102458012  \n",
       "      Leche Hershey´s Deslactosado Chocolate 200ml       Walmart 4x$26.00         750102457910  \n",
       "...                                                                                        ...  \n",
       "48    Producto lácteo Alpura Frutal frutos del bosque... Walmart 2X$13.00 Online  750105590925  \n",
       "      Producto lácteo Alpura Frutal guanábana 1 l        Walmart Online           750105590507  \n",
       "      Producto lácteo Alpura Frutal mango 1 l            Walmart Online           750105590380  \n",
       "      Producto lácteo Alpura Frutal piña coco 1 l        Walmart Online           750105590491  \n",
       "      Producto lácteo Alpura Frutal piña coco 250 ml     Walmart 2X$13.00 Online  750105590585  \n",
       "\n",
       "[1539 rows x 3 columns]"
      ]
     },
     "execution_count": 31,
     "metadata": {},
     "output_type": "execute_result"
    }
   ],
   "source": [
    "tablep"
   ]
  },
  {
   "cell_type": "code",
   "execution_count": 32,
   "metadata": {},
   "outputs": [],
   "source": [
    "def promodf(item,tienda):\n",
    "    t=[]\n",
    "    for x in range(0,1538):\n",
    "        if tablep.index.values[x][1]==item and tablep.index.values[x][2]==tienda:\n",
    "            t.append([tablep.index.values[x][0],tablep.index.values[x][1],tablep.index.values[x][2],tablep.index.values[x][3]])\n",
    "    return pd.DataFrame(t,columns=['Weeks','Item','Tienda','Promo'])"
   ]
  },
  {
   "cell_type": "code",
   "execution_count": 33,
   "metadata": {},
   "outputs": [],
   "source": [
    "def xmay(lista, x1, x2):\n",
    "    for x in range(0,len(lista)):\n",
    "        if lista[x] == x1:\n",
    "            lista[x]=x2\n"
   ]
  },
  {
   "cell_type": "code",
   "execution_count": 45,
   "metadata": {},
   "outputs": [],
   "source": [
    "def prom():\n",
    "    item = input('Ingrese item: ')\n",
    "    tienda = input('Ingrese tienda: ')\n",
    "    return promodf(item,tienda)"
   ]
  },
  {
   "cell_type": "code",
   "execution_count": 52,
   "metadata": {},
   "outputs": [],
   "source": [
    "def sust(lista):\n",
    "    x1 = input('Ingrese promo a sustituir: ')\n",
    "    x2 = input('Ingrese promo sustituta: ')\n",
    "    xmay(lista,x1,x2)\n"
   ]
  },
  {
   "cell_type": "code",
   "execution_count": 36,
   "metadata": {},
   "outputs": [],
   "source": [
    "def cat(lista):\n",
    "    return pd.Series(pd.Categorical(lista,categories=set(lista))).value_counts()\n",
    "    "
   ]
  },
  {
   "cell_type": "code",
   "execution_count": 46,
   "metadata": {},
   "outputs": [
    {
     "name": "stdout",
     "output_type": "stream",
     "text": [
      "Ingrese item: Leche Hershey´s Chocolate 200ml\n",
      "Ingrese tienda: Walmart\n"
     ]
    }
   ],
   "source": [
    "hsy_wmt = prom()"
   ]
  },
  {
   "cell_type": "code",
   "execution_count": 48,
   "metadata": {},
   "outputs": [
    {
     "data": {
      "text/plain": [
       "{'4X$25.00', '4X$26.00', '4X$28.00', '4x$26.00'}"
      ]
     },
     "execution_count": 48,
     "metadata": {},
     "output_type": "execute_result"
    }
   ],
   "source": [
    "set(hsy_wmt['Promo'])"
   ]
  },
  {
   "cell_type": "code",
   "execution_count": 54,
   "metadata": {},
   "outputs": [
    {
     "name": "stdout",
     "output_type": "stream",
     "text": [
      "Ingrese promo a sustituir: 4x$26.00\n",
      "Ingrese promo sustituta: 4X$26.00\n"
     ]
    },
    {
     "name": "stderr",
     "output_type": "stream",
     "text": [
      "/home/diego/anaconda3/lib/python3.7/site-packages/ipykernel_launcher.py:4: SettingWithCopyWarning: \n",
      "A value is trying to be set on a copy of a slice from a DataFrame\n",
      "\n",
      "See the caveats in the documentation: http://pandas.pydata.org/pandas-docs/stable/user_guide/indexing.html#returning-a-view-versus-a-copy\n",
      "  after removing the cwd from sys.path.\n"
     ]
    }
   ],
   "source": [
    "sust(hsy_wmt['Promo'])"
   ]
  },
  {
   "cell_type": "code",
   "execution_count": 56,
   "metadata": {},
   "outputs": [
    {
     "data": {
      "text/plain": [
       "4X$26.00    33\n",
       "4X$25.00     6\n",
       "4X$28.00     5\n",
       "dtype: int64"
      ]
     },
     "execution_count": 56,
     "metadata": {},
     "output_type": "execute_result"
    }
   ],
   "source": [
    "hsy_wmt_count = cat(hsy_wmt['Promo'])\n",
    "hsy_wmt_count"
   ]
  },
  {
   "cell_type": "code",
   "execution_count": 57,
   "metadata": {},
   "outputs": [
    {
     "name": "stdout",
     "output_type": "stream",
     "text": [
      "Ingrese item: Leche Hershey´s Chocolate 200ml\n",
      "Ingrese tienda: Chedraui\n"
     ]
    }
   ],
   "source": [
    "hsy_che = prom()"
   ]
  },
  {
   "cell_type": "code",
   "execution_count": 58,
   "metadata": {},
   "outputs": [
    {
     "data": {
      "text/plain": [
       "{\"25% desc leche saborizada Hershey's 200ml\",\n",
       " \"4x$24 Leche Hershey's 200ml, varios sabores\",\n",
       " \"4x$26 Leche Hershey's 200ml (varios sabores)\",\n",
       " \"4x$26 Leche Hershey's 200ml, varios sabores\",\n",
       " \"5x$30 Leche Hershey's 200ml, varios sabores\",\n",
       " 'Antes: $8.25',\n",
       " 'Antes: $9.1'}"
      ]
     },
     "execution_count": 58,
     "metadata": {},
     "output_type": "execute_result"
    }
   ],
   "source": [
    "set(hsy_che['Promo'])"
   ]
  },
  {
   "cell_type": "code",
   "execution_count": 59,
   "metadata": {},
   "outputs": [
    {
     "name": "stdout",
     "output_type": "stream",
     "text": [
      "Ingrese promo a sustituir: 4x$26 Leche Hershey's 200ml (varios sabores)\n",
      "Ingrese promo sustituta: 4x$26 Leche Hershey's 200ml, varios sabores\n"
     ]
    },
    {
     "name": "stderr",
     "output_type": "stream",
     "text": [
      "/home/diego/anaconda3/lib/python3.7/site-packages/ipykernel_launcher.py:4: SettingWithCopyWarning: \n",
      "A value is trying to be set on a copy of a slice from a DataFrame\n",
      "\n",
      "See the caveats in the documentation: http://pandas.pydata.org/pandas-docs/stable/user_guide/indexing.html#returning-a-view-versus-a-copy\n",
      "  after removing the cwd from sys.path.\n"
     ]
    }
   ],
   "source": [
    "sust(hsy_che['Promo'])"
   ]
  },
  {
   "cell_type": "code",
   "execution_count": 61,
   "metadata": {},
   "outputs": [
    {
     "data": {
      "text/plain": [
       "4x$26 Leche Hershey's 200ml, varios sabores    10\n",
       "4x$24 Leche Hershey's 200ml, varios sabores     3\n",
       "Antes: $8.25                                    3\n",
       "25% desc leche saborizada Hershey's 200ml       1\n",
       "Antes: $9.1                                     1\n",
       "5x$30 Leche Hershey's 200ml, varios sabores     1\n",
       "dtype: int64"
      ]
     },
     "execution_count": 61,
     "metadata": {},
     "output_type": "execute_result"
    }
   ],
   "source": [
    "hsy_che_count = cat(hsy_che['Promo'])\n",
    "hsy_che_count"
   ]
  },
  {
   "cell_type": "code",
   "execution_count": 62,
   "metadata": {},
   "outputs": [
    {
     "name": "stdout",
     "output_type": "stream",
     "text": [
      "Ingrese item: Leche Uht Santa Clara Helado de Chocolate 200ml\n",
      "Ingrese tienda: Walmart\n"
     ]
    }
   ],
   "source": [
    "clara_wmt = prom()"
   ]
  },
  {
   "cell_type": "code",
   "execution_count": 64,
   "metadata": {},
   "outputs": [
    {
     "data": {
      "text/plain": [
       "4X$28.00    22\n",
       "4x$26.00    13\n",
       "dtype: int64"
      ]
     },
     "execution_count": 64,
     "metadata": {},
     "output_type": "execute_result"
    }
   ],
   "source": [
    "clara_wmt_count = cat(clara_wmt['Promo'])\n",
    "clara_wmt_count"
   ]
  },
  {
   "cell_type": "code",
   "execution_count": 67,
   "metadata": {},
   "outputs": [
    {
     "name": "stdout",
     "output_type": "stream",
     "text": [
      "Ingrese item: Leche Lala Yomi Chocolate Red Azuc 190 M\n",
      "Ingrese tienda: Walmart\n"
     ]
    }
   ],
   "source": [
    "lala_wmt = prom()"
   ]
  },
  {
   "cell_type": "code",
   "execution_count": 68,
   "metadata": {},
   "outputs": [
    {
     "data": {
      "text/plain": [
       "{'4X$20.00', '4x$20.00', '4x$22.00', '5x$25.00 Online'}"
      ]
     },
     "execution_count": 68,
     "metadata": {},
     "output_type": "execute_result"
    }
   ],
   "source": [
    "set(lala_wmt[\"Promo\"])"
   ]
  },
  {
   "cell_type": "code",
   "execution_count": 69,
   "metadata": {},
   "outputs": [
    {
     "name": "stdout",
     "output_type": "stream",
     "text": [
      "Ingrese promo a sustituir: 4x$20.00\n",
      "Ingrese promo sustituta: 4X$20.00\n"
     ]
    },
    {
     "name": "stderr",
     "output_type": "stream",
     "text": [
      "/home/diego/anaconda3/lib/python3.7/site-packages/ipykernel_launcher.py:4: SettingWithCopyWarning: \n",
      "A value is trying to be set on a copy of a slice from a DataFrame\n",
      "\n",
      "See the caveats in the documentation: http://pandas.pydata.org/pandas-docs/stable/user_guide/indexing.html#returning-a-view-versus-a-copy\n",
      "  after removing the cwd from sys.path.\n"
     ]
    }
   ],
   "source": [
    "sust(lala_wmt[\"Promo\"])"
   ]
  },
  {
   "cell_type": "code",
   "execution_count": 70,
   "metadata": {},
   "outputs": [
    {
     "data": {
      "text/plain": [
       "4X$20.00           33\n",
       "5x$25.00 Online     5\n",
       "4x$22.00            3\n",
       "dtype: int64"
      ]
     },
     "execution_count": 70,
     "metadata": {},
     "output_type": "execute_result"
    }
   ],
   "source": [
    "lala_wmt_count = cat(lala_wmt[\"Promo\"])\n",
    "lala_wmt_count"
   ]
  },
  {
   "cell_type": "code",
   "execution_count": 89,
   "metadata": {},
   "outputs": [
    {
     "data": {
      "text/html": [
       "<div>\n",
       "<style scoped>\n",
       "    .dataframe tbody tr th:only-of-type {\n",
       "        vertical-align: middle;\n",
       "    }\n",
       "\n",
       "    .dataframe tbody tr th {\n",
       "        vertical-align: top;\n",
       "    }\n",
       "\n",
       "    .dataframe thead th {\n",
       "        text-align: right;\n",
       "    }\n",
       "</style>\n",
       "<table border=\"1\" class=\"dataframe\">\n",
       "  <thead>\n",
       "    <tr style=\"text-align: right;\">\n",
       "      <th></th>\n",
       "      <th>Hershey</th>\n",
       "      <th>Santa Clara</th>\n",
       "      <th>Yomi Lala</th>\n",
       "    </tr>\n",
       "  </thead>\n",
       "  <tbody>\n",
       "    <tr>\n",
       "      <td>Chedraui max</td>\n",
       "      <td>8.93</td>\n",
       "      <td>9.0</td>\n",
       "      <td>6.9</td>\n",
       "    </tr>\n",
       "    <tr>\n",
       "      <td>Walmart max</td>\n",
       "      <td>9.00</td>\n",
       "      <td>9.0</td>\n",
       "      <td>6.7</td>\n",
       "    </tr>\n",
       "  </tbody>\n",
       "</table>\n",
       "</div>"
      ],
      "text/plain": [
       "              Hershey  Santa Clara  Yomi Lala\n",
       "Chedraui max     8.93          9.0        6.9\n",
       "Walmart max      9.00          9.0        6.7"
      ]
     },
     "execution_count": 89,
     "metadata": {},
     "output_type": "execute_result"
    }
   ],
   "source": [
    "max = pd.DataFrame([[np.amax(tablef.loc['Leche Hershey´s Chocolate 200ml', 'Chedraui'].values), \n",
    "                            np.amax(tablef.loc['Leche Uht Santa Clara Helado de Chocolate 200ml', 'Chedraui'].values), \n",
    "                                    np.amax(tablef.loc['Leche Lala Yomi Chocolate Red Azuc 190 M', 'Chedraui'].values)],\n",
    "                   [np.amax(tablef.loc['Leche Hershey´s Chocolate 200ml', 'Walmart'].values), \n",
    "                            np.amax(tablef.loc['Leche Uht Santa Clara Helado de Chocolate 200ml', 'Walmart'].values), \n",
    "                                    np.amax(tablef.loc['Leche Lala Yomi Chocolate Red Azuc 190 M', 'Walmart'].values)]],\n",
    "                   columns =['Hershey', 'Santa Clara', 'Yomi Lala'], index = ['Chedraui max', 'Walmart max'])\n",
    "max"
   ]
  },
  {
   "cell_type": "code",
   "execution_count": 87,
   "metadata": {},
   "outputs": [
    {
     "data": {
      "text/html": [
       "<div>\n",
       "<style scoped>\n",
       "    .dataframe tbody tr th:only-of-type {\n",
       "        vertical-align: middle;\n",
       "    }\n",
       "\n",
       "    .dataframe tbody tr th {\n",
       "        vertical-align: top;\n",
       "    }\n",
       "\n",
       "    .dataframe thead th {\n",
       "        text-align: right;\n",
       "    }\n",
       "</style>\n",
       "<table border=\"1\" class=\"dataframe\">\n",
       "  <thead>\n",
       "    <tr style=\"text-align: right;\">\n",
       "      <th></th>\n",
       "      <th>Walmart</th>\n",
       "      <th>Chedraui</th>\n",
       "    </tr>\n",
       "  </thead>\n",
       "  <tbody>\n",
       "    <tr>\n",
       "      <td>max</td>\n",
       "      <td>9.0</td>\n",
       "      <td>8.93</td>\n",
       "    </tr>\n",
       "  </tbody>\n",
       "</table>\n",
       "</div>"
      ],
      "text/plain": [
       "     Walmart  Chedraui\n",
       "max      9.0      8.93"
      ]
     },
     "execution_count": 87,
     "metadata": {},
     "output_type": "execute_result"
    }
   ],
   "source": [
    "vs = pd.DataFrame([[np.amax(tablef.loc['Leche Hershey´s Chocolate 200ml', 'Walmart'].values), \n",
    "                            np.amax(tablef.loc['Leche Hershey´s Chocolate 200ml', 'Chedraui'].values)]],\n",
    "                   columns =['Walmart','Chedraui'], index = ['max'])\n",
    "vs"
   ]
  },
  {
   "cell_type": "code",
   "execution_count": 114,
   "metadata": {},
   "outputs": [
    {
     "data": {
      "text/html": [
       "<div>\n",
       "<style scoped>\n",
       "    .dataframe tbody tr th:only-of-type {\n",
       "        vertical-align: middle;\n",
       "    }\n",
       "\n",
       "    .dataframe tbody tr th {\n",
       "        vertical-align: top;\n",
       "    }\n",
       "\n",
       "    .dataframe thead th {\n",
       "        text-align: right;\n",
       "    }\n",
       "</style>\n",
       "<table border=\"1\" class=\"dataframe\">\n",
       "  <thead>\n",
       "    <tr style=\"text-align: right;\">\n",
       "      <th></th>\n",
       "      <th>Chedraui</th>\n",
       "    </tr>\n",
       "  </thead>\n",
       "  <tbody>\n",
       "    <tr>\n",
       "      <td>4x$26 Leche Hershey's 200ml, varios sabores</td>\n",
       "      <td>10</td>\n",
       "    </tr>\n",
       "    <tr>\n",
       "      <td>4x$24 Leche Hershey's 200ml, varios sabores</td>\n",
       "      <td>3</td>\n",
       "    </tr>\n",
       "    <tr>\n",
       "      <td>Antes: $8.25</td>\n",
       "      <td>3</td>\n",
       "    </tr>\n",
       "    <tr>\n",
       "      <td>25% desc leche saborizada Hershey's 200ml</td>\n",
       "      <td>1</td>\n",
       "    </tr>\n",
       "    <tr>\n",
       "      <td>Antes: $9.1</td>\n",
       "      <td>1</td>\n",
       "    </tr>\n",
       "    <tr>\n",
       "      <td>5x$30 Leche Hershey's 200ml, varios sabores</td>\n",
       "      <td>1</td>\n",
       "    </tr>\n",
       "  </tbody>\n",
       "</table>\n",
       "</div>"
      ],
      "text/plain": [
       "                                             Chedraui\n",
       "4x$26 Leche Hershey's 200ml, varios sabores        10\n",
       "4x$24 Leche Hershey's 200ml, varios sabores         3\n",
       "Antes: $8.25                                        3\n",
       "25% desc leche saborizada Hershey's 200ml           1\n",
       "Antes: $9.1                                         1\n",
       "5x$30 Leche Hershey's 200ml, varios sabores         1"
      ]
     },
     "execution_count": 114,
     "metadata": {},
     "output_type": "execute_result"
    }
   ],
   "source": [
    "pd.DataFrame(hsy_che_count, columns =['Chedraui'])"
   ]
  },
  {
   "cell_type": "code",
   "execution_count": 117,
   "metadata": {},
   "outputs": [
    {
     "data": {
      "text/html": [
       "<div>\n",
       "<style scoped>\n",
       "    .dataframe tbody tr th:only-of-type {\n",
       "        vertical-align: middle;\n",
       "    }\n",
       "\n",
       "    .dataframe tbody tr th {\n",
       "        vertical-align: top;\n",
       "    }\n",
       "\n",
       "    .dataframe thead th {\n",
       "        text-align: right;\n",
       "    }\n",
       "</style>\n",
       "<table border=\"1\" class=\"dataframe\">\n",
       "  <thead>\n",
       "    <tr style=\"text-align: right;\">\n",
       "      <th></th>\n",
       "      <th>Hershey</th>\n",
       "    </tr>\n",
       "  </thead>\n",
       "  <tbody>\n",
       "    <tr>\n",
       "      <td>4X$26.00</td>\n",
       "      <td>33</td>\n",
       "    </tr>\n",
       "    <tr>\n",
       "      <td>4X$25.00</td>\n",
       "      <td>6</td>\n",
       "    </tr>\n",
       "    <tr>\n",
       "      <td>4X$28.00</td>\n",
       "      <td>5</td>\n",
       "    </tr>\n",
       "  </tbody>\n",
       "</table>\n",
       "</div>"
      ],
      "text/plain": [
       "          Hershey\n",
       "4X$26.00       33\n",
       "4X$25.00        6\n",
       "4X$28.00        5"
      ]
     },
     "execution_count": 117,
     "metadata": {},
     "output_type": "execute_result"
    }
   ],
   "source": [
    "pd.DataFrame(hsy_wmt_count, columns =['Hershey'])"
   ]
  },
  {
   "cell_type": "code",
   "execution_count": 118,
   "metadata": {},
   "outputs": [
    {
     "data": {
      "text/html": [
       "<div>\n",
       "<style scoped>\n",
       "    .dataframe tbody tr th:only-of-type {\n",
       "        vertical-align: middle;\n",
       "    }\n",
       "\n",
       "    .dataframe tbody tr th {\n",
       "        vertical-align: top;\n",
       "    }\n",
       "\n",
       "    .dataframe thead th {\n",
       "        text-align: right;\n",
       "    }\n",
       "</style>\n",
       "<table border=\"1\" class=\"dataframe\">\n",
       "  <thead>\n",
       "    <tr style=\"text-align: right;\">\n",
       "      <th></th>\n",
       "      <th>Santa Clara</th>\n",
       "    </tr>\n",
       "  </thead>\n",
       "  <tbody>\n",
       "    <tr>\n",
       "      <td>4X$28.00</td>\n",
       "      <td>22</td>\n",
       "    </tr>\n",
       "    <tr>\n",
       "      <td>4x$26.00</td>\n",
       "      <td>13</td>\n",
       "    </tr>\n",
       "  </tbody>\n",
       "</table>\n",
       "</div>"
      ],
      "text/plain": [
       "          Santa Clara\n",
       "4X$28.00           22\n",
       "4x$26.00           13"
      ]
     },
     "execution_count": 118,
     "metadata": {},
     "output_type": "execute_result"
    }
   ],
   "source": [
    "pd.DataFrame(clara_wmt_count, columns =['Santa Clara'])"
   ]
  },
  {
   "cell_type": "code",
   "execution_count": 119,
   "metadata": {},
   "outputs": [
    {
     "data": {
      "text/html": [
       "<div>\n",
       "<style scoped>\n",
       "    .dataframe tbody tr th:only-of-type {\n",
       "        vertical-align: middle;\n",
       "    }\n",
       "\n",
       "    .dataframe tbody tr th {\n",
       "        vertical-align: top;\n",
       "    }\n",
       "\n",
       "    .dataframe thead th {\n",
       "        text-align: right;\n",
       "    }\n",
       "</style>\n",
       "<table border=\"1\" class=\"dataframe\">\n",
       "  <thead>\n",
       "    <tr style=\"text-align: right;\">\n",
       "      <th></th>\n",
       "      <th>Yomi Lala</th>\n",
       "    </tr>\n",
       "  </thead>\n",
       "  <tbody>\n",
       "    <tr>\n",
       "      <td>4X$20.00</td>\n",
       "      <td>33</td>\n",
       "    </tr>\n",
       "    <tr>\n",
       "      <td>5x$25.00 Online</td>\n",
       "      <td>5</td>\n",
       "    </tr>\n",
       "    <tr>\n",
       "      <td>4x$22.00</td>\n",
       "      <td>3</td>\n",
       "    </tr>\n",
       "  </tbody>\n",
       "</table>\n",
       "</div>"
      ],
      "text/plain": [
       "                 Yomi Lala\n",
       "4X$20.00                33\n",
       "5x$25.00 Online          5\n",
       "4x$22.00                 3"
      ]
     },
     "execution_count": 119,
     "metadata": {},
     "output_type": "execute_result"
    }
   ],
   "source": [
    "pd.DataFrame(lala_wmt_count, columns =['Yomi Lala'])"
   ]
  },
  {
   "cell_type": "code",
   "execution_count": null,
   "metadata": {},
   "outputs": [],
   "source": []
  }
 ],
 "metadata": {
  "kernelspec": {
   "display_name": "Python 3",
   "language": "python",
   "name": "python3"
  },
  "language_info": {
   "codemirror_mode": {
    "name": "ipython",
    "version": 3
   },
   "file_extension": ".py",
   "mimetype": "text/x-python",
   "name": "python",
   "nbconvert_exporter": "python",
   "pygments_lexer": "ipython3",
   "version": "3.7.4"
  }
 },
 "nbformat": 4,
 "nbformat_minor": 4
}
